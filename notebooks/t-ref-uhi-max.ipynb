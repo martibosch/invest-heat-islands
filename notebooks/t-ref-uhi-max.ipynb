{
 "cells": [
  {
   "cell_type": "code",
   "execution_count": 1,
   "metadata": {},
   "outputs": [
    {
     "name": "stdout",
     "output_type": "stream",
     "text": [
      "make: Entering directory '/home/martibosch/data-science/invest-heat-islands'\r\n",
      "make: Nothing to be done for 'station_measurements'.\r\n",
      "make: Leaving directory '/home/martibosch/data-science/invest-heat-islands'\r\n"
     ]
    }
   ],
   "source": [
    "!make -C .. station_measurements"
   ]
  },
  {
   "cell_type": "code",
   "execution_count": 2,
   "metadata": {},
   "outputs": [],
   "source": [
    "import matplotlib.pyplot as plt\n",
    "import pandas as pd\n",
    "import seaborn as sns"
   ]
  },
  {
   "cell_type": "code",
   "execution_count": 3,
   "metadata": {},
   "outputs": [],
   "source": [
    "station_tair_filepath = '../data/interim/station-tair.csv'"
   ]
  },
  {
   "cell_type": "code",
   "execution_count": 4,
   "metadata": {},
   "outputs": [],
   "source": [
    "station_tair_df = pd.read_csv(station_tair_filepath, index_col=0)"
   ]
  },
  {
   "cell_type": "code",
   "execution_count": 5,
   "metadata": {},
   "outputs": [],
   "source": [
    "T_ref_ser = station_tair_df.min(axis=1)\n",
    "T_max_ser = station_tair_df.max(axis=1)"
   ]
  },
  {
   "cell_type": "code",
   "execution_count": 6,
   "metadata": {},
   "outputs": [],
   "source": [
    "def plot_date(ax, i, T_ref, T_max, UHI_max_kws, T_ref_kws, T_max_kws):\n",
    "    ax.plot([i, i], [T_ref, T_max], **UHI_max_kws)\n",
    "    ax.plot(i, T_ref, **T_ref_kws)\n",
    "    ax.plot(i, T_max, **T_max_kws)\n",
    "    return ax"
   ]
  },
  {
   "cell_type": "code",
   "execution_count": 7,
   "metadata": {},
   "outputs": [
    {
     "data": {
      "image/png": "[encoded data removed]",
      "text/plain": [
       "<Figure size 432x288 with 1 Axes>"
      ]
     },
     "metadata": {
      "needs_background": "light"
     },
     "output_type": "display_data"
    }
   ],
   "source": [
    "fig, ax = plt.subplots()\n",
    "\n",
    "palette = sns.color_palette()\n",
    "blue = palette[0]\n",
    "orange = palette[1]\n",
    "red = palette[3]\n",
    "\n",
    "UHI_max_kws = dict(linestyle='--', color=orange, label='$UHI_{max}$')\n",
    "T_ref_kws = dict(linestyle='None', marker='o', color=blue, label='$T_{ref}$')\n",
    "T_max_kws = dict(linestyle='None', marker='o', color=red, label='$T_{max}$')\n",
    "\n",
    "iterator = enumerate(zip(T_ref_ser, T_max_ser))\n",
    "\n",
    "i, (T_ref, T_max) = next(iterator)\n",
    "plot_date(ax, i, T_ref, T_max, UHI_max_kws, T_ref_kws, T_max_kws)\n",
    "\n",
    "for kws in [UHI_max_kws, T_ref_kws, T_max_kws]:\n",
    "    kws.pop('label')\n",
    "for i, (T_ref, T_max) in iterator:\n",
    "    plot_date(ax, i, T_ref, T_max, UHI_max_kws, T_ref_kws, T_max_kws)\n",
    "ax.set_xticklabels([0] + station_tair_df.index.tolist(), rotation=45)\n",
    "ax.legend(loc='center right', bbox_to_anchor=(1.28, .5))\n",
    "fig.savefig('../reports/figures/t-ref-uhi-max.pdf')"
   ]
  }
 ],
 "metadata": {
  "kernelspec": {
   "display_name": "Python (invest-heat-islands)",
   "language": "python",
   "name": "invest-heat-islands"
  },
  "language_info": {
   "codemirror_mode": {
    "name": "ipython",
    "version": 3
   },
   "file_extension": ".py",
   "mimetype": "text/x-python",
   "name": "python",
   "nbconvert_exporter": "python",
   "pygments_lexer": "ipython3",
   "version": "3.7.6"
  },
  "name": "Untitled7.ipynb"
 },
 "nbformat": 4,
 "nbformat_minor": 2
}
